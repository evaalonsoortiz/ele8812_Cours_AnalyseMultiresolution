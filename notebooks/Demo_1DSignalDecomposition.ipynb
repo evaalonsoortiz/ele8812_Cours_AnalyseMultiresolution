{
 "cells": [
  {
   "cell_type": "code",
   "execution_count": 1,
   "metadata": {
    "slideshow": {
     "slide_type": "skip"
    }
   },
   "outputs": [],
   "source": [
    "import numpy as np\n",
    "import matplotlib.pyplot as plt\n",
    "plt.style.use('seaborn-poster')\n",
    "plt.rcParams['axes.linewidth'] = 3\n",
    "\n",
    "from ipywidgets import interactive, fixed\n",
    "from scipy.interpolate import interp1d\n",
    "import pywt\n",
    "from scipy.ndimage import convolve"
   ]
  },
  {
   "cell_type": "markdown",
   "metadata": {
    "slideshow": {
     "slide_type": "slide"
    }
   },
   "source": [
    "# Signal decomposition (Fourier, 1D Wavelet, 2D Wavelet)\n",
    "## ELE8812 - H2018 (Joël Lefebvre)"
   ]
  },
  {
   "cell_type": "markdown",
   "metadata": {},
   "source": [
    "Pour une version interactive de ce notebook: [![Binder](https://mybinder.org/badge.svg)](https://mybinder.org/v2/gh/joe-from-mtl/ele8812_Cours_AnalyseMultiresolution/master?filepath=notebooks%2FDemo_1DSignalDecomposition.ipynb)"
   ]
  },
  {
   "cell_type": "markdown",
   "metadata": {
    "slideshow": {
     "slide_type": "slide"
    }
   },
   "source": [
    "## Signal to decompose\n",
    "\n",
    "\\begin{equation}\n",
    "f(x) = x^2, \\text{ for } x \\in [0, 1]\n",
    "\\end{equation}"
   ]
  },
  {
   "cell_type": "code",
   "execution_count": 2,
   "metadata": {},
   "outputs": [
    {
     "data": {
      "image/png": "[encoded data removed]",
      "text/plain": [
       "<Figure size 432x288 with 1 Axes>"
      ]
     },
     "metadata": {},
     "output_type": "display_data"
    }
   ],
   "source": [
    "x = np.linspace(0, 1, 512); \n",
    "y = x**2 #* np.cos(x*6.0*np.pi)\n",
    "plt.plot(x,y); plt.title('Original Signal')\n",
    "plt.show()    "
   ]
  },
  {
   "cell_type": "markdown",
   "metadata": {
    "slideshow": {
     "slide_type": "slide"
    }
   },
   "source": [
    "## Signal series expansions\n",
    "\n",
    "\\begin{equation}\n",
    "f(x) = \\sum_k \\alpha_k \\phi_k(x)\n",
    "\\end{equation}\n",
    "\n",
    "where $\\alpha_k$ are *expansion coefficients*, $\\phi_k(x)$ are *expansion functions*. "
   ]
  },
  {
   "cell_type": "markdown",
   "metadata": {
    "slideshow": {
     "slide_type": "fragment"
    }
   },
   "source": [
    "### Expansion coefficients\n",
    "If $\\{\\phi_k(x)\\}$ forms an orthonormal basis, the $\\alpha_k$ are computed by taking the *integral inner product* of the basis $\\phi_k(x)$ and function $f(x)$\n",
    "\n",
    "\\begin{equation}\n",
    "\\alpha_k = \\langle\\phi_k(x), f(x)\\rangle = \\int\\phi^*_k(x) f(x) dx\n",
    "\\end{equation}"
   ]
  },
  {
   "cell_type": "markdown",
   "metadata": {
    "slideshow": {
     "slide_type": "slide"
    }
   },
   "source": [
    "## Example 1: Fourier Transform 1D"
   ]
  },
  {
   "cell_type": "markdown",
   "metadata": {},
   "source": [
    "For the Fourier series expansion, the expansion functions are given by\n",
    "\n",
    "\\begin{equation}\n",
    "\\phi_k(x) = e^{2 i \\pi k x / T}\n",
    "\\end{equation}"
   ]
  },
  {
   "cell_type": "code",
   "execution_count": 3,
   "metadata": {
    "slideshow": {
     "slide_type": "skip"
    }
   },
   "outputs": [],
   "source": [
    "k = 4\n",
    "def phi_fourier(x, k):\n",
    "    phi = np.exp(2.0j * np.pi * k * x)\n",
    "    return phi\n",
    "\n",
    "def plot_fourier_functions(k):\n",
    "    plt.figure(figsize=(8,5))\n",
    "    plt.plot(x, phi_fourier(x, k).real, label='Real part')\n",
    "    plt.plot(x, phi_fourier(x, k).imag, label='Imaginary part')\n",
    "    plt.title('Fourier basis function $\\phi_k(x)$ for k={}'.format(k), y=1.05)\n",
    "    plt.hlines(0, 0, 1, color='k', linewidth=2, linestyle='dashed')\n",
    "    plt.xlim([0, 1]); plt.xlabel('x')\n",
    "    plt.ylim([-1.5, 1.5]); plt.ylabel('y')\n",
    "    plt.legend(loc=1)\n",
    "    plt.show() "
   ]
  },
  {
   "cell_type": "code",
   "execution_count": 4,
   "metadata": {
    "slideshow": {
     "slide_type": "subslide"
    }
   },
   "outputs": [
    {
     "data": {
      "application/vnd.jupyter.widget-view+json": {
       "model_id": "d15572f8e9f94c54bd4ee7e0f149e672",
       "version_major": 2,
       "version_minor": 0
      },
      "text/html": [
       "<p>Failed to display Jupyter Widget of type <code>interactive</code>.</p>\n",
       "<p>\n",
       "  If you're reading this message in the Jupyter Notebook or JupyterLab Notebook, it may mean\n",
       "  that the widgets JavaScript is still loading. If this message persists, it\n",
       "  likely means that the widgets JavaScript library is either not installed or\n",
       "  not enabled. See the <a href=\"https://ipywidgets.readthedocs.io/en/stable/user_install.html\">Jupyter\n",
       "  Widgets Documentation</a> for setup instructions.\n",
       "</p>\n",
       "<p>\n",
       "  If you're reading this message in another frontend (for example, a static\n",
       "  rendering on GitHub or <a href=\"https://nbviewer.jupyter.org/\">NBViewer</a>),\n",
       "  it may mean that your frontend doesn't currently support widgets.\n",
       "</p>\n"
      ],
      "text/plain": [
       "interactive(children=(IntSlider(value=8, description='k', max=16), Output()), _dom_classes=('widget-interact',))"
      ]
     },
     "metadata": {},
     "output_type": "display_data"
    }
   ],
   "source": [
    "interactive(plot_fourier_functions, k=(0,16))"
   ]
  },
  {
   "cell_type": "markdown",
   "metadata": {
    "slideshow": {
     "slide_type": "subslide"
    }
   },
   "source": [
    "## Compute the expansion coefficients"
   ]
  },
  {
   "cell_type": "code",
   "execution_count": 5,
   "metadata": {},
   "outputs": [],
   "source": [
    "coeffs = dict()\n",
    "nLevels = 10\n",
    "for k in range(-nLevels, nLevels + 1):\n",
    "    alpha = np.sum(y * np.conj(phi_fourier(x, k)))\n",
    "    coeffs['a_{}'.format(k)] = alpha"
   ]
  },
  {
   "cell_type": "code",
   "execution_count": 6,
   "metadata": {
    "slideshow": {
     "slide_type": "skip"
    }
   },
   "outputs": [],
   "source": [
    "def plot_reconstruction_fourier(x, y, coeffs, max_level=-1):\n",
    "    if max_level == -1:\n",
    "        max_level = (len(coeffs) - 1) / 2\n",
    "    \n",
    "    signal = None\n",
    "    plt.figure(figsize=(8,5))\n",
    "    for k in range(-max_level, max_level+1):\n",
    "        alpha = coeffs['a_{}'.format(k)]\n",
    "        phi = alpha * phi_fourier(x, k) / float(len(x))\n",
    "        if signal is None:\n",
    "            signal = phi\n",
    "        else:\n",
    "            signal += phi\n",
    "        if k == max_level:\n",
    "            label=r\"$\\alpha_k \\phi_k(x)$\"\n",
    "        else:\n",
    "            label = None\n",
    "        plt.plot(x, phi.real, color=[0.2, 0.2, 1.0], alpha=0.5, label=label)\n",
    "    \n",
    "    plt.plot(x, y, color='k', label=r'$f(x)$')\n",
    "    plt.plot(x, signal.real, color='r', label=r'$\\frac{1}{N}\\sum_k \\alpha_k \\phi_k(x)$')\n",
    "    plt.hlines(0, 0, 1, color='k', linewidth=2, linestyle='dashed')\n",
    "    plt.xlim([0, 1]); plt.xlabel('x')\n",
    "    plt.legend()\n",
    "    plt.title(r\"$|k| \\leq %d$\" % max_level, y=1.04)\n",
    "    plt.show() "
   ]
  },
  {
   "cell_type": "code",
   "execution_count": 7,
   "metadata": {
    "slideshow": {
     "slide_type": "subslide"
    }
   },
   "outputs": [
    {
     "data": {
      "application/vnd.jupyter.widget-view+json": {
       "model_id": "0822f49009494249827fbbd11d31bce1",
       "version_major": 2,
       "version_minor": 0
      },
      "text/html": [
       "<p>Failed to display Jupyter Widget of type <code>interactive</code>.</p>\n",
       "<p>\n",
       "  If you're reading this message in the Jupyter Notebook or JupyterLab Notebook, it may mean\n",
       "  that the widgets JavaScript is still loading. If this message persists, it\n",
       "  likely means that the widgets JavaScript library is either not installed or\n",
       "  not enabled. See the <a href=\"https://ipywidgets.readthedocs.io/en/stable/user_install.html\">Jupyter\n",
       "  Widgets Documentation</a> for setup instructions.\n",
       "</p>\n",
       "<p>\n",
       "  If you're reading this message in another frontend (for example, a static\n",
       "  rendering on GitHub or <a href=\"https://nbviewer.jupyter.org/\">NBViewer</a>),\n",
       "  it may mean that your frontend doesn't currently support widgets.\n",
       "</p>\n"
      ],
      "text/plain": [
       "interactive(children=(IntSlider(value=0, description='max_level', max=10), Output()), _dom_classes=('widget-interact',))"
      ]
     },
     "metadata": {},
     "output_type": "display_data"
    }
   ],
   "source": [
    "interactive(plot_reconstruction_fourier, x = fixed(x), y=fixed(y), coeffs=fixed(coeffs), max_level=(0,nLevels))"
   ]
  },
  {
   "cell_type": "markdown",
   "metadata": {
    "slideshow": {
     "slide_type": "slide"
    }
   },
   "source": [
    "## Scaling Functions"
   ]
  },
  {
   "cell_type": "code",
   "execution_count": 8,
   "metadata": {
    "slideshow": {
     "slide_type": "skip"
    }
   },
   "outputs": [],
   "source": [
    "def get_scalingFunction(a, b, wavelet='haar', nSupport=1):\n",
    "    phi_0, psi_0, x_0 = pywt.DiscreteContinuousWavelet(wavelet).wavefun(level=8)\n",
    "    f = interp1d(x_0, phi_0, kind='linear', fill_value=0, bounds_error=False)\n",
    "    w = x_0[-1] - x_0[0]\n",
    "    xmin = x_0[0] - nSupport*w\n",
    "    xmax = x_0[-1] + nSupport*w\n",
    "    nSteps = int((2*nSupport + 1) * len(x_0))\n",
    "    x = np.linspace(xmin, xmax, nSteps)\n",
    "    phi = 2**(a/2.0)*f(2**a*x - b)\n",
    "    return phi, x \n",
    "\n",
    "def display_scalingFunction(j_scale=0,k_translate=0,wavelet='haar'):\n",
    "    phi, x = get_scalingFunction(j_scale, k_translate, wavelet)\n",
    "    #plt.figure(figsize=(8,5))\n",
    "    plt.fill_between(x, phi);\n",
    "    plt.plot(x, phi, color='k');\n",
    "    plt.axhline(0, color='k', alpha=0.5)\n",
    "    plt.axvline(0, color='k', alpha=0.5)\n",
    "    plt.title(r'$\\varphi_{%d,%d}(x)$' % (j_scale, k_translate), y=1.05)\n",
    "    #plt.show()"
   ]
  },
  {
   "cell_type": "code",
   "execution_count": 9,
   "metadata": {
    "slideshow": {
     "slide_type": "-"
    }
   },
   "outputs": [
    {
     "data": {
      "application/vnd.jupyter.widget-view+json": {
       "model_id": "e85e24bdaed44b53b225a1ceeb896adf",
       "version_major": 2,
       "version_minor": 0
      },
      "text/html": [
       "<p>Failed to display Jupyter Widget of type <code>interactive</code>.</p>\n",
       "<p>\n",
       "  If you're reading this message in the Jupyter Notebook or JupyterLab Notebook, it may mean\n",
       "  that the widgets JavaScript is still loading. If this message persists, it\n",
       "  likely means that the widgets JavaScript library is either not installed or\n",
       "  not enabled. See the <a href=\"https://ipywidgets.readthedocs.io/en/stable/user_install.html\">Jupyter\n",
       "  Widgets Documentation</a> for setup instructions.\n",
       "</p>\n",
       "<p>\n",
       "  If you're reading this message in another frontend (for example, a static\n",
       "  rendering on GitHub or <a href=\"https://nbviewer.jupyter.org/\">NBViewer</a>),\n",
       "  it may mean that your frontend doesn't currently support widgets.\n",
       "</p>\n"
      ],
      "text/plain": [
       "interactive(children=(IntSlider(value=0, description='j_scale', max=4), IntSlider(value=0, description='k_translate', max=10, min=-10), Dropdown(description='wavelet', options=('haar', 'db2', 'db3', 'db4', 'sym2', 'sym3'), value='haar'), Output()), _dom_classes=('widget-interact',))"
      ]
     },
     "metadata": {},
     "output_type": "display_data"
    }
   ],
   "source": [
    "waveletList = ['haar', 'db2', 'db3', 'db4', 'sym2', 'sym3']\n",
    "interactive(display_scalingFunction, j_scale=(0,4), k_translate=(-10,10), wavelet=waveletList)"
   ]
  },
  {
   "cell_type": "markdown",
   "metadata": {
    "collapsed": true,
    "slideshow": {
     "slide_type": "slide"
    }
   },
   "source": [
    "## Wavelet functions"
   ]
  },
  {
   "cell_type": "code",
   "execution_count": 10,
   "metadata": {
    "slideshow": {
     "slide_type": "skip"
    }
   },
   "outputs": [],
   "source": [
    "def get_waveletFunction(a, b, wavelet='haar', nSupport=1):\n",
    "    phi_0, psi_0, x_0 = pywt.DiscreteContinuousWavelet(wavelet).wavefun(level=8)\n",
    "    f = interp1d(x_0, psi_0, kind='linear', fill_value=0, bounds_error=False)\n",
    "    w = x_0[-1] - x_0[0]\n",
    "    xmin = x_0[0] - nSupport*w\n",
    "    xmax = x_0[-1] + nSupport*w\n",
    "    nSteps = int((2*nSupport + 1) * len(x_0))\n",
    "    x = np.linspace(xmin, xmax, nSteps)\n",
    "    psi = 2**(a/2.0)*f(2**a*x - b)\n",
    "    return psi, x \n",
    "\n",
    "def display_waveletFunction(j_scale=0,k_translate=0,wavelet='haar'):\n",
    "    psi, x = get_waveletFunction(j_scale, k_translate, wavelet)\n",
    "    #plt.figure(figsize=(8,5))\n",
    "    plt.fill_between(x, psi);\n",
    "    plt.plot(x, psi, color='k');\n",
    "    plt.axhline(0, color='k', alpha=0.5)\n",
    "    plt.axvline(0, color='k', alpha=0.5)\n",
    "    plt.title(r'$\\psi_{%d,%d}(x)$' % (j_scale, k_translate), y=1.05)\n",
    "    #plt.show()"
   ]
  },
  {
   "cell_type": "code",
   "execution_count": 11,
   "metadata": {
    "slideshow": {
     "slide_type": "-"
    }
   },
   "outputs": [
    {
     "data": {
      "application/vnd.jupyter.widget-view+json": {
       "model_id": "125788fed89547868a44bb1c9d91b2f7",
       "version_major": 2,
       "version_minor": 0
      },
      "text/html": [
       "<p>Failed to display Jupyter Widget of type <code>interactive</code>.</p>\n",
       "<p>\n",
       "  If you're reading this message in the Jupyter Notebook or JupyterLab Notebook, it may mean\n",
       "  that the widgets JavaScript is still loading. If this message persists, it\n",
       "  likely means that the widgets JavaScript library is either not installed or\n",
       "  not enabled. See the <a href=\"https://ipywidgets.readthedocs.io/en/stable/user_install.html\">Jupyter\n",
       "  Widgets Documentation</a> for setup instructions.\n",
       "</p>\n",
       "<p>\n",
       "  If you're reading this message in another frontend (for example, a static\n",
       "  rendering on GitHub or <a href=\"https://nbviewer.jupyter.org/\">NBViewer</a>),\n",
       "  it may mean that your frontend doesn't currently support widgets.\n",
       "</p>\n"
      ],
      "text/plain": [
       "interactive(children=(IntSlider(value=0, description='j_scale', max=4), IntSlider(value=0, description='k_translate', max=10, min=-10), Dropdown(description='wavelet', options=('haar', 'db2', 'db3', 'db4', 'sym2', 'sym3'), value='haar'), Output()), _dom_classes=('widget-interact',))"
      ]
     },
     "metadata": {},
     "output_type": "display_data"
    }
   ],
   "source": [
    "waveletList = ['haar', 'db2', 'db3', 'db4', 'sym2', 'sym3']\n",
    "interactive(display_waveletFunction, j_scale=(0,4), k_translate=(-10,10), wavelet=waveletList)"
   ]
  },
  {
   "cell_type": "markdown",
   "metadata": {
    "slideshow": {
     "slide_type": "slide"
    }
   },
   "source": [
    "## Example : Decomposition using the Haar Wavelet Basis"
   ]
  },
  {
   "cell_type": "markdown",
   "metadata": {
    "slideshow": {
     "slide_type": "-"
    }
   },
   "source": [
    "\\begin{equation}\n",
    "f(x) = \\sum_{k} c_{j_0}(k) \\varphi_{j_0,k}(x) + \\sum_{j\\geq j_0}\\sum_{k} d_j(x)\\psi_{j,k}(x)\n",
    "\\end{equation}"
   ]
  },
  {
   "cell_type": "markdown",
   "metadata": {
    "slideshow": {
     "slide_type": "fragment"
    }
   },
   "source": [
    "** Scaling coefficients **\n",
    "\\begin{equation}\n",
    "c_{j_0}(k) = \\langle f(x), \\varphi_{j_0,l}(x)\\rangle = \\int f(x) \\varphi^*_{j_0, k}(x) dx\n",
    "\\end{equation}\n",
    "\n",
    "** Wavelet coefficients **\n",
    "\\begin{equation}\n",
    "d_{j}(k) = \\langle f(x), \\psi_{j,l}(x)\\rangle = \\int f(x) \\psi^*_{j, k}(x) dx\n",
    "\\end{equation}"
   ]
  },
  {
   "cell_type": "markdown",
   "metadata": {
    "slideshow": {
     "slide_type": "subslide"
    }
   },
   "source": [
    "## Original signal, and Haar scaling and wavelet functions"
   ]
  },
  {
   "cell_type": "code",
   "execution_count": 12,
   "metadata": {
    "slideshow": {
     "slide_type": "-"
    }
   },
   "outputs": [
    {
     "data": {
      "image/png": "[encoded data removed]",
      "text/plain": [
       "<Figure size 1152x360 with 3 Axes>"
      ]
     },
     "metadata": {},
     "output_type": "display_data"
    }
   ],
   "source": [
    "plt.figure(figsize=(16,5))\n",
    "j = 0; k = 0;\n",
    "plt.subplot(131); plt.plot(x,y); plt.title('Original Signal')\n",
    "plt.subplot(132); display_scalingFunction(j,k)\n",
    "plt.subplot(133); display_waveletFunction(j,k)\n",
    "plt.show()"
   ]
  },
  {
   "cell_type": "code",
   "execution_count": 13,
   "metadata": {
    "slideshow": {
     "slide_type": "skip"
    }
   },
   "outputs": [],
   "source": [
    "## Wavelet decomposition and reconstruction\n",
    "def plot_reconstruction_haar(x, y, wavelet = 'haar', level=0):\n",
    "    coeffs = pywt.wavedec(y, wavelet)\n",
    "    signal = None\n",
    "    plt.figure(figsize=(8,5))\n",
    "    coeffs_recons = list()\n",
    "    for k in range(len(coeffs)):\n",
    "        if k > level+1:\n",
    "            coeffs_recons.append(np.zeros(len(coeffs[k])))\n",
    "        else:\n",
    "            coeffs_recons.append(coeffs[k])\n",
    "    signal = pywt.waverec(coeffs_recons, wavelet)\n",
    "    plt.plot(x, y, color='b', label=r'$f(x)$')\n",
    "    plt.plot(x, signal, color='r', label=r'$\\frac{1}{N}\\sum_k \\alpha_k \\phi_k(x)$')\n",
    "    plt.hlines(0, 0, 1, color='k', linewidth=2, linestyle='dashed')\n",
    "    plt.xlim([0, 1]); plt.xlabel('x')\n",
    "    plt.legend()\n",
    "    plt.title(r\"$|j| \\leq %d$\" % level, y=1.04)\n",
    "    plt.show() "
   ]
  },
  {
   "cell_type": "code",
   "execution_count": 14,
   "metadata": {
    "scrolled": false,
    "slideshow": {
     "slide_type": "subslide"
    }
   },
   "outputs": [
    {
     "data": {
      "application/vnd.jupyter.widget-view+json": {
       "model_id": "7726b1e8b6bd481c83a05fada91f7c0f",
       "version_major": 2,
       "version_minor": 0
      },
      "text/html": [
       "<p>Failed to display Jupyter Widget of type <code>interactive</code>.</p>\n",
       "<p>\n",
       "  If you're reading this message in the Jupyter Notebook or JupyterLab Notebook, it may mean\n",
       "  that the widgets JavaScript is still loading. If this message persists, it\n",
       "  likely means that the widgets JavaScript library is either not installed or\n",
       "  not enabled. See the <a href=\"https://ipywidgets.readthedocs.io/en/stable/user_install.html\">Jupyter\n",
       "  Widgets Documentation</a> for setup instructions.\n",
       "</p>\n",
       "<p>\n",
       "  If you're reading this message in another frontend (for example, a static\n",
       "  rendering on GitHub or <a href=\"https://nbviewer.jupyter.org/\">NBViewer</a>),\n",
       "  it may mean that your frontend doesn't currently support widgets.\n",
       "</p>\n"
      ],
      "text/plain": [
       "interactive(children=(Dropdown(description='wavelet', options=('haar', 'db2', 'sym2'), value='haar'), IntSlider(value=0, description='level', max=8), Output()), _dom_classes=('widget-interact',))"
      ]
     },
     "metadata": {},
     "output_type": "display_data"
    }
   ],
   "source": [
    "waveletList = ['haar', 'db2', 'sym2']\n",
    "interactive(plot_reconstruction_haar, x = fixed(x), y=fixed(y), level=(0,8), wavelet=waveletList)"
   ]
  },
  {
   "cell_type": "markdown",
   "metadata": {
    "slideshow": {
     "slide_type": "slide"
    }
   },
   "source": [
    "## 2D Extenstion"
   ]
  },
  {
   "cell_type": "markdown",
   "metadata": {
    "slideshow": {
     "slide_type": "-"
    }
   },
   "source": [
    "** 2D scaling function**\n",
    "\\begin{equation}\n",
    "\\varphi^{(2D)}(x,y) = \\varphi(x) \\varphi(y)\n",
    "\\end{equation}"
   ]
  },
  {
   "cell_type": "markdown",
   "metadata": {},
   "source": [
    "** 2D wavelet functions**\n",
    "\\begin{equation}\n",
    "\\psi^{(H)}(x,y) = \\psi(x) \\varphi(y)\n",
    "\\end{equation}\n",
    "\n",
    "\\begin{equation}\n",
    "\\psi^{(V)}(x,y) = \\varphi(x) \\psi(y)\n",
    "\\end{equation}\n",
    "\n",
    "\\begin{equation}\n",
    "\\psi^{(D)}(x,y) = \\psi(x) \\psi(y)\n",
    "\\end{equation}"
   ]
  },
  {
   "cell_type": "code",
   "execution_count": 15,
   "metadata": {
    "slideshow": {
     "slide_type": "skip"
    }
   },
   "outputs": [],
   "source": [
    "def display_2DScaling_and_Wavelet_Functions(j=0, m=0, n=0, wavelet='haar'):\n",
    "    phi_x, x = get_scalingFunction(j, m, wavelet=wavelet, nSupport=0)\n",
    "    psi_x, _ = get_waveletFunction(j, m, wavelet=wavelet, nSupport=0)\n",
    "    phi_y, y = get_scalingFunction(j, n, wavelet=wavelet, nSupport=0)\n",
    "    psi_y, _ = get_waveletFunction(j, n, wavelet=wavelet, nSupport=0)\n",
    "    \n",
    "    # In python X and Y are inverted\n",
    "    phi_y2d = np.tile(np.reshape(phi_x, (len(x), 1)), (1, len(y)))\n",
    "    psi_y2d = np.tile(np.reshape(psi_x, (len(x), 1)), (1, len(y)))\n",
    "    phi_x2d = np.tile(np.reshape(phi_y, (1, len(y))), (len(x), 1))\n",
    "    psi_x2d = np.tile(np.reshape(psi_y, (1, len(y))), (len(x), 1))\n",
    "    \n",
    "    # Computing the 2D Haar wavelet from these equations\n",
    "    phi_2d = phi_x2d * phi_y2d\n",
    "    psi_2d_H = psi_x2d * phi_y2d\n",
    "    psi_2d_V = phi_x2d * psi_y2d   \n",
    "    psi_2d_D = psi_x2d * psi_y2d\n",
    "\n",
    "    # Displaying the 1D wavelet at the origin of the 2D functions\n",
    "    plt.figure(figsize=(16,8))\n",
    "    plt.subplot(231); \n",
    "    plt.plot(x,phi_x, label=r'$\\phi(x)$'); \n",
    "    plt.plot(y,phi_y, label=r'$\\phi(y)$');\n",
    "    plt.legend()\n",
    "    plt.title('1D Scaling functions', y=1.02); plt.xticks([])\n",
    "    plt.subplot(234); \n",
    "    plt.plot(x,psi_x, label=r'$\\psi(x)$'); \n",
    "    plt.plot(y,psi_y, label=r'$\\psi(y)$'); \n",
    "    plt.title('1D Wavelet functions', y=1.02)\n",
    "    plt.legend()\n",
    "\n",
    "    plt.subplot(232); plt.imshow(phi_2d.T, origin='lower', cmap='gray'); plt.xticks([]); plt.yticks([])\n",
    "    plt.title(r'$\\varphi_{%d, %d, %d}(x,y)$' % (j, m, n), y=1.02)\n",
    "    plt.subplot(233); plt.imshow(psi_2d_H.T, origin='lower', cmap='gray'); plt.xticks([]); plt.yticks([])\n",
    "    plt.title(r'$\\psi^{(H)}_{%d, %d, %d}(x,y)$' % (j, m, n), y=1.02)\n",
    "    plt.subplot(235); plt.imshow(psi_2d_V.T, origin='lower', cmap='gray'); plt.xticks([]); plt.yticks([])\n",
    "    plt.title(r'$\\psi^{(V)}_{%d, %d, %d}(x,y)$' % (j, m, n), y=1.02)\n",
    "    plt.subplot(236); plt.imshow(psi_2d_D.T, origin='lower', cmap='gray'); plt.xticks([]); plt.yticks([])\n",
    "    plt.title(r'$\\psi^{(D)}_{%d, %d, %d}(x,y)$' % (j, m, n), y=1.02)\n",
    "\n",
    "    plt.show()"
   ]
  },
  {
   "cell_type": "markdown",
   "metadata": {
    "slideshow": {
     "slide_type": "slide"
    }
   },
   "source": [
    "## Static 2D Scaling and Wavelet function example"
   ]
  },
  {
   "cell_type": "code",
   "execution_count": 16,
   "metadata": {
    "slideshow": {
     "slide_type": "-"
    }
   },
   "outputs": [
    {
     "data": {
      "image/png": "[encoded data removed]",
      "text/plain": [
       "<Figure size 1152x576 with 6 Axes>"
      ]
     },
     "metadata": {},
     "output_type": "display_data"
    }
   ],
   "source": [
    "# Example\n",
    "display_2DScaling_and_Wavelet_Functions()"
   ]
  },
  {
   "cell_type": "markdown",
   "metadata": {
    "slideshow": {
     "slide_type": "subslide"
    }
   },
   "source": [
    "## Interactive example\n"
   ]
  },
  {
   "cell_type": "code",
   "execution_count": 17,
   "metadata": {},
   "outputs": [
    {
     "data": {
      "application/vnd.jupyter.widget-view+json": {
       "model_id": "84e403d93cfd4489b0767ff075d848c7",
       "version_major": 2,
       "version_minor": 0
      },
      "text/html": [
       "<p>Failed to display Jupyter Widget of type <code>interactive</code>.</p>\n",
       "<p>\n",
       "  If you're reading this message in the Jupyter Notebook or JupyterLab Notebook, it may mean\n",
       "  that the widgets JavaScript is still loading. If this message persists, it\n",
       "  likely means that the widgets JavaScript library is either not installed or\n",
       "  not enabled. See the <a href=\"https://ipywidgets.readthedocs.io/en/stable/user_install.html\">Jupyter\n",
       "  Widgets Documentation</a> for setup instructions.\n",
       "</p>\n",
       "<p>\n",
       "  If you're reading this message in another frontend (for example, a static\n",
       "  rendering on GitHub or <a href=\"https://nbviewer.jupyter.org/\">NBViewer</a>),\n",
       "  it may mean that your frontend doesn't currently support widgets.\n",
       "</p>\n"
      ],
      "text/plain": [
       "interactive(children=(IntSlider(value=0, description='j', max=1), IntSlider(value=0, description='m', max=1), IntSlider(value=0, description='n', max=1), Dropdown(description='wavelet', options=('haar', 'db2', 'sym4'), value='haar'), Output()), _dom_classes=('widget-interact',))"
      ]
     },
     "metadata": {},
     "output_type": "display_data"
    }
   ],
   "source": [
    "waveletList = ['haar', 'db2', 'sym4']\n",
    "interactive(display_2DScaling_and_Wavelet_Functions, j=(0,1), m=(0,1), n=(0,1), wavelet=waveletList)"
   ]
  }
 ],
 "metadata": {
  "celltoolbar": "Slideshow",
  "kernelspec": {
   "display_name": "Python 3",
   "language": "python",
   "name": "python3"
  },
  "language_info": {
   "codemirror_mode": {
    "name": "ipython",
    "version": 3
   },
   "file_extension": ".py",
   "mimetype": "text/x-python",
   "name": "python",
   "nbconvert_exporter": "python",
   "pygments_lexer": "ipython3",
   "version": "3.6.4"
  }
 },
 "nbformat": 4,
 "nbformat_minor": 2
}
